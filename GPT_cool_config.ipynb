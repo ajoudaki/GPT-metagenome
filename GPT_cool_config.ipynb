{
 "cells": [
  {
   "cell_type": "code",
   "execution_count": 5,
   "metadata": {},
   "outputs": [
    {
     "data": {
      "text/html": [
       "Tracking run with wandb version 0.15.4"
      ],
      "text/plain": [
       "<IPython.core.display.HTML object>"
      ]
     },
     "metadata": {},
     "output_type": "display_data"
    },
    {
     "data": {
      "text/html": [
       "Run data is saved locally in <code>/home/amir/Codes/GPT_metagenome/wandb/run-20230613_121844-kmjvalva</code>"
      ],
      "text/plain": [
       "<IPython.core.display.HTML object>"
      ]
     },
     "metadata": {},
     "output_type": "display_data"
    },
    {
     "data": {
      "text/html": [
       "Syncing run <strong><a href='https://wandb.ai/sketch-bros/GPT2_DNA/runs/kmjvalva' target=\"_blank\">HMM</a></strong> to <a href='https://wandb.ai/sketch-bros/GPT2_DNA' target=\"_blank\">Weights & Biases</a> (<a href='https://wandb.me/run' target=\"_blank\">docs</a>)<br/>"
      ],
      "text/plain": [
       "<IPython.core.display.HTML object>"
      ]
     },
     "metadata": {},
     "output_type": "display_data"
    },
    {
     "data": {
      "text/html": [
       " View project at <a href='https://wandb.ai/sketch-bros/GPT2_DNA' target=\"_blank\">https://wandb.ai/sketch-bros/GPT2_DNA</a>"
      ],
      "text/plain": [
       "<IPython.core.display.HTML object>"
      ]
     },
     "metadata": {},
     "output_type": "display_data"
    },
    {
     "data": {
      "text/html": [
       " View run at <a href='https://wandb.ai/sketch-bros/GPT2_DNA/runs/kmjvalva' target=\"_blank\">https://wandb.ai/sketch-bros/GPT2_DNA/runs/kmjvalva</a>"
      ],
      "text/plain": [
       "<IPython.core.display.HTML object>"
      ]
     },
     "metadata": {},
     "output_type": "display_data"
    },
    {
     "name": "stdout",
     "output_type": "stream",
     "text": [
      "Using 2 GPUs for training.\n"
     ]
    },
    {
     "name": "stderr",
     "output_type": "stream",
     "text": [
      "/home/amir/anaconda3/lib/python3.8/site-packages/transformers/optimization.py:411: FutureWarning: This implementation of AdamW is deprecated and will be removed in a future version. Use the PyTorch implementation torch.optim.AdamW instead, or set `no_deprecation_warning=True` to disable this warning\n",
      "  warnings.warn(\n"
     ]
    },
    {
     "data": {
      "application/vnd.jupyter.widget-view+json": {
       "model_id": "39dfc15cce2445e6b319f70023067f77",
       "version_major": 2,
       "version_minor": 0
      },
      "text/plain": [
       "Epoch 1/200 | Training:   0%|          | 0/4 [00:00<?, ?it/s]"
      ]
     },
     "metadata": {},
     "output_type": "display_data"
    },
    {
     "name": "stderr",
     "output_type": "stream",
     "text": [
      "/home/amir/anaconda3/lib/python3.8/site-packages/torch/nn/parallel/_functions.py:68: UserWarning: Was asked to gather along dimension 0, but all input tensors were scalars; will instead unsqueeze and return a vector.\n",
      "  warnings.warn('Was asked to gather along dimension 0, but all '\n"
     ]
    },
    {
     "data": {
      "application/vnd.jupyter.widget-view+json": {
       "model_id": "5bb363ec44284e7c9a87512406c6989c",
       "version_major": 2,
       "version_minor": 0
      },
      "text/plain": [
       "Epoch 1/200 | Validation:   0%|          | 0/2 [00:00<?, ?it/s]"
      ]
     },
     "metadata": {},
     "output_type": "display_data"
    },
    {
     "name": "stdout",
     "output_type": "stream",
     "text": [
      "Epoch 1/200 | Train Loss: 0.40098 | Val Loss: 0.15236 | Val Accuracy: 0.00350\n"
     ]
    },
    {
     "data": {
      "application/vnd.jupyter.widget-view+json": {
       "model_id": "cf10d2ecd4664b60ab36638e29c4f2a9",
       "version_major": 2,
       "version_minor": 0
      },
      "text/plain": [
       "Epoch 2/200 | Training:   0%|          | 0/4 [00:00<?, ?it/s]"
      ]
     },
     "metadata": {},
     "output_type": "display_data"
    },
    {
     "data": {
      "application/vnd.jupyter.widget-view+json": {
       "model_id": "0296c1fd004d4ee49d64dddf22da9a26",
       "version_major": 2,
       "version_minor": 0
      },
      "text/plain": [
       "Epoch 2/200 | Validation:   0%|          | 0/2 [00:00<?, ?it/s]"
      ]
     },
     "metadata": {},
     "output_type": "display_data"
    },
    {
     "name": "stdout",
     "output_type": "stream",
     "text": [
      "Epoch 2/200 | Train Loss: 0.13750 | Val Loss: 0.06820 | Val Accuracy: 0.00375\n"
     ]
    },
    {
     "data": {
      "application/vnd.jupyter.widget-view+json": {
       "model_id": "75c66b95273241789e07e456219849ef",
       "version_major": 2,
       "version_minor": 0
      },
      "text/plain": [
       "Epoch 3/200 | Training:   0%|          | 0/4 [00:00<?, ?it/s]"
      ]
     },
     "metadata": {},
     "output_type": "display_data"
    },
    {
     "data": {
      "application/vnd.jupyter.widget-view+json": {
       "model_id": "7d67adc7f254427b9dbcf958c6bbbc5e",
       "version_major": 2,
       "version_minor": 0
      },
      "text/plain": [
       "Epoch 3/200 | Validation:   0%|          | 0/2 [00:00<?, ?it/s]"
      ]
     },
     "metadata": {},
     "output_type": "display_data"
    },
    {
     "name": "stdout",
     "output_type": "stream",
     "text": [
      "Epoch 3/200 | Train Loss: 0.06927 | Val Loss: 0.05490 | Val Accuracy: 0.00367\n"
     ]
    },
    {
     "data": {
      "application/vnd.jupyter.widget-view+json": {
       "model_id": "918783f6f5c04d938a8d274c91448f6e",
       "version_major": 2,
       "version_minor": 0
      },
      "text/plain": [
       "Epoch 4/200 | Training:   0%|          | 0/4 [00:00<?, ?it/s]"
      ]
     },
     "metadata": {},
     "output_type": "display_data"
    },
    {
     "data": {
      "application/vnd.jupyter.widget-view+json": {
       "model_id": "4b9b3bcc14fa4788846bde13533a6a2d",
       "version_major": 2,
       "version_minor": 0
      },
      "text/plain": [
       "Epoch 4/200 | Validation:   0%|          | 0/2 [00:00<?, ?it/s]"
      ]
     },
     "metadata": {},
     "output_type": "display_data"
    },
    {
     "name": "stdout",
     "output_type": "stream",
     "text": [
      "Epoch 4/200 | Train Loss: 0.07406 | Val Loss: 0.04886 | Val Accuracy: 0.00405\n"
     ]
    },
    {
     "data": {
      "application/vnd.jupyter.widget-view+json": {
       "model_id": "486e01bfe216499bbda1ae3a1af8cc73",
       "version_major": 2,
       "version_minor": 0
      },
      "text/plain": [
       "Epoch 5/200 | Training:   0%|          | 0/4 [00:00<?, ?it/s]"
      ]
     },
     "metadata": {},
     "output_type": "display_data"
    },
    {
     "data": {
      "application/vnd.jupyter.widget-view+json": {
       "model_id": "4638689c2c414581aa2586158d83ed9f",
       "version_major": 2,
       "version_minor": 0
      },
      "text/plain": [
       "Epoch 5/200 | Validation:   0%|          | 0/2 [00:00<?, ?it/s]"
      ]
     },
     "metadata": {},
     "output_type": "display_data"
    },
    {
     "name": "stdout",
     "output_type": "stream",
     "text": [
      "Epoch 5/200 | Train Loss: 0.05553 | Val Loss: 0.04088 | Val Accuracy: 0.00398\n"
     ]
    },
    {
     "data": {
      "application/vnd.jupyter.widget-view+json": {
       "model_id": "b784b4f267d54075b420aa71cedd2d48",
       "version_major": 2,
       "version_minor": 0
      },
      "text/plain": [
       "Epoch 6/200 | Training:   0%|          | 0/4 [00:00<?, ?it/s]"
      ]
     },
     "metadata": {},
     "output_type": "display_data"
    },
    {
     "data": {
      "application/vnd.jupyter.widget-view+json": {
       "model_id": "a15b3c82d38d4ab78c4fc9aa0a9620a4",
       "version_major": 2,
       "version_minor": 0
      },
      "text/plain": [
       "Epoch 6/200 | Validation:   0%|          | 0/2 [00:00<?, ?it/s]"
      ]
     },
     "metadata": {},
     "output_type": "display_data"
    },
    {
     "name": "stdout",
     "output_type": "stream",
     "text": [
      "Epoch 6/200 | Train Loss: 0.04447 | Val Loss: 0.03570 | Val Accuracy: 0.00409\n"
     ]
    },
    {
     "data": {
      "application/vnd.jupyter.widget-view+json": {
       "model_id": "78f150850643413982b12ca804170c5b",
       "version_major": 2,
       "version_minor": 0
      },
      "text/plain": [
       "Epoch 7/200 | Training:   0%|          | 0/4 [00:00<?, ?it/s]"
      ]
     },
     "metadata": {},
     "output_type": "display_data"
    },
    {
     "data": {
      "application/vnd.jupyter.widget-view+json": {
       "model_id": "6fb4207f615f408da63e020a41b9fd4b",
       "version_major": 2,
       "version_minor": 0
      },
      "text/plain": [
       "Epoch 7/200 | Validation:   0%|          | 0/2 [00:00<?, ?it/s]"
      ]
     },
     "metadata": {},
     "output_type": "display_data"
    },
    {
     "name": "stdout",
     "output_type": "stream",
     "text": [
      "Epoch 7/200 | Train Loss: 0.04177 | Val Loss: 0.03159 | Val Accuracy: 0.00398\n"
     ]
    },
    {
     "data": {
      "application/vnd.jupyter.widget-view+json": {
       "model_id": "a4bc6dbcc5724b329e07b802e3f347db",
       "version_major": 2,
       "version_minor": 0
      },
      "text/plain": [
       "Epoch 8/200 | Training:   0%|          | 0/4 [00:00<?, ?it/s]"
      ]
     },
     "metadata": {},
     "output_type": "display_data"
    },
    {
     "data": {
      "application/vnd.jupyter.widget-view+json": {
       "model_id": "01093af4fb8447aebe34a0151b4e9a55",
       "version_major": 2,
       "version_minor": 0
      },
      "text/plain": [
       "Epoch 8/200 | Validation:   0%|          | 0/2 [00:00<?, ?it/s]"
      ]
     },
     "metadata": {},
     "output_type": "display_data"
    },
    {
     "name": "stdout",
     "output_type": "stream",
     "text": [
      "Epoch 8/200 | Train Loss: 0.03640 | Val Loss: 0.02804 | Val Accuracy: 0.00348\n"
     ]
    },
    {
     "data": {
      "application/vnd.jupyter.widget-view+json": {
       "model_id": "29d6621572724898b4752433032e8468",
       "version_major": 2,
       "version_minor": 0
      },
      "text/plain": [
       "Epoch 9/200 | Training:   0%|          | 0/4 [00:00<?, ?it/s]"
      ]
     },
     "metadata": {},
     "output_type": "display_data"
    },
    {
     "data": {
      "application/vnd.jupyter.widget-view+json": {
       "model_id": "7d35ad98734642a28fe21405db1e13a4",
       "version_major": 2,
       "version_minor": 0
      },
      "text/plain": [
       "Epoch 9/200 | Validation:   0%|          | 0/2 [00:00<?, ?it/s]"
      ]
     },
     "metadata": {},
     "output_type": "display_data"
    },
    {
     "name": "stdout",
     "output_type": "stream",
     "text": [
      "Epoch 9/200 | Train Loss: 0.03179 | Val Loss: 0.02622 | Val Accuracy: 0.00396\n"
     ]
    },
    {
     "data": {
      "application/vnd.jupyter.widget-view+json": {
       "model_id": "9356e630934c40c58925a8362d808f7a",
       "version_major": 2,
       "version_minor": 0
      },
      "text/plain": [
       "Epoch 10/200 | Training:   0%|          | 0/4 [00:00<?, ?it/s]"
      ]
     },
     "metadata": {},
     "output_type": "display_data"
    },
    {
     "data": {
      "application/vnd.jupyter.widget-view+json": {
       "model_id": "940aa3f9ad0e47ce99ce0169e0dd3005",
       "version_major": 2,
       "version_minor": 0
      },
      "text/plain": [
       "Epoch 10/200 | Validation:   0%|          | 0/2 [00:00<?, ?it/s]"
      ]
     },
     "metadata": {},
     "output_type": "display_data"
    },
    {
     "name": "stdout",
     "output_type": "stream",
     "text": [
      "Epoch 10/200 | Train Loss: 0.03405 | Val Loss: 0.02556 | Val Accuracy: 0.00381\n"
     ]
    },
    {
     "data": {
      "application/vnd.jupyter.widget-view+json": {
       "model_id": "7130f9e5cc484d149128458a712007e5",
       "version_major": 2,
       "version_minor": 0
      },
      "text/plain": [
       "Epoch 11/200 | Training:   0%|          | 0/4 [00:00<?, ?it/s]"
      ]
     },
     "metadata": {},
     "output_type": "display_data"
    },
    {
     "data": {
      "application/vnd.jupyter.widget-view+json": {
       "model_id": "57755c2679b64096a99b160c1cae16b7",
       "version_major": 2,
       "version_minor": 0
      },
      "text/plain": [
       "Epoch 11/200 | Validation:   0%|          | 0/2 [00:00<?, ?it/s]"
      ]
     },
     "metadata": {},
     "output_type": "display_data"
    },
    {
     "name": "stdout",
     "output_type": "stream",
     "text": [
      "Epoch 11/200 | Train Loss: 0.03084 | Val Loss: 0.02494 | Val Accuracy: 0.00418\n"
     ]
    },
    {
     "data": {
      "application/vnd.jupyter.widget-view+json": {
       "model_id": "118627ca13064650bbe60a98f3f43078",
       "version_major": 2,
       "version_minor": 0
      },
      "text/plain": [
       "Epoch 12/200 | Training:   0%|          | 0/4 [00:00<?, ?it/s]"
      ]
     },
     "metadata": {},
     "output_type": "display_data"
    },
    {
     "data": {
      "application/vnd.jupyter.widget-view+json": {
       "model_id": "d09b3c6eab664072975d52b0c836b660",
       "version_major": 2,
       "version_minor": 0
      },
      "text/plain": [
       "Epoch 12/200 | Validation:   0%|          | 0/2 [00:00<?, ?it/s]"
      ]
     },
     "metadata": {},
     "output_type": "display_data"
    },
    {
     "name": "stdout",
     "output_type": "stream",
     "text": [
      "Epoch 12/200 | Train Loss: 0.02691 | Val Loss: 0.02437 | Val Accuracy: 0.00391\n"
     ]
    },
    {
     "data": {
      "application/vnd.jupyter.widget-view+json": {
       "model_id": "85544f5c91c64ae4add8cbec7f49a093",
       "version_major": 2,
       "version_minor": 0
      },
      "text/plain": [
       "Epoch 13/200 | Training:   0%|          | 0/4 [00:00<?, ?it/s]"
      ]
     },
     "metadata": {},
     "output_type": "display_data"
    },
    {
     "data": {
      "application/vnd.jupyter.widget-view+json": {
       "model_id": "e2dc07153332491cb31f68bee65c41d5",
       "version_major": 2,
       "version_minor": 0
      },
      "text/plain": [
       "Epoch 13/200 | Validation:   0%|          | 0/2 [00:00<?, ?it/s]"
      ]
     },
     "metadata": {},
     "output_type": "display_data"
    },
    {
     "name": "stdout",
     "output_type": "stream",
     "text": [
      "Epoch 13/200 | Train Loss: 0.03600 | Val Loss: 0.02400 | Val Accuracy: 0.00351\n"
     ]
    },
    {
     "data": {
      "application/vnd.jupyter.widget-view+json": {
       "model_id": "8968ed4871bb477d99e0e7435fc0c6ab",
       "version_major": 2,
       "version_minor": 0
      },
      "text/plain": [
       "Epoch 14/200 | Training:   0%|          | 0/4 [00:00<?, ?it/s]"
      ]
     },
     "metadata": {},
     "output_type": "display_data"
    },
    {
     "data": {
      "application/vnd.jupyter.widget-view+json": {
       "model_id": "d87e7eb4f41c4d0e85cf4aac94f85b3b",
       "version_major": 2,
       "version_minor": 0
      },
      "text/plain": [
       "Epoch 14/200 | Validation:   0%|          | 0/2 [00:00<?, ?it/s]"
      ]
     },
     "metadata": {},
     "output_type": "display_data"
    },
    {
     "name": "stdout",
     "output_type": "stream",
     "text": [
      "Epoch 14/200 | Train Loss: 0.02700 | Val Loss: 0.02375 | Val Accuracy: 0.00347\n"
     ]
    },
    {
     "data": {
      "application/vnd.jupyter.widget-view+json": {
       "model_id": "711544f87ac44c93920979b9b091b635",
       "version_major": 2,
       "version_minor": 0
      },
      "text/plain": [
       "Epoch 15/200 | Training:   0%|          | 0/4 [00:00<?, ?it/s]"
      ]
     },
     "metadata": {},
     "output_type": "display_data"
    },
    {
     "data": {
      "application/vnd.jupyter.widget-view+json": {
       "model_id": "69642310efe54b39918a8265dfa9e2dd",
       "version_major": 2,
       "version_minor": 0
      },
      "text/plain": [
       "Epoch 15/200 | Validation:   0%|          | 0/2 [00:00<?, ?it/s]"
      ]
     },
     "metadata": {},
     "output_type": "display_data"
    },
    {
     "name": "stdout",
     "output_type": "stream",
     "text": [
      "Epoch 15/200 | Train Loss: 0.02853 | Val Loss: 0.02328 | Val Accuracy: 0.00346\n"
     ]
    },
    {
     "data": {
      "application/vnd.jupyter.widget-view+json": {
       "model_id": "1ed9cd19ff54405a8dd2da6a261e2212",
       "version_major": 2,
       "version_minor": 0
      },
      "text/plain": [
       "Epoch 16/200 | Training:   0%|          | 0/4 [00:00<?, ?it/s]"
      ]
     },
     "metadata": {},
     "output_type": "display_data"
    },
    {
     "data": {
      "application/vnd.jupyter.widget-view+json": {
       "model_id": "6c9e6c5f2dbc463cb3438acd45b98dfd",
       "version_major": 2,
       "version_minor": 0
      },
      "text/plain": [
       "Epoch 16/200 | Validation:   0%|          | 0/2 [00:00<?, ?it/s]"
      ]
     },
     "metadata": {},
     "output_type": "display_data"
    },
    {
     "name": "stdout",
     "output_type": "stream",
     "text": [
      "Epoch 16/200 | Train Loss: 0.02765 | Val Loss: 0.02290 | Val Accuracy: 0.00347\n"
     ]
    },
    {
     "data": {
      "application/vnd.jupyter.widget-view+json": {
       "model_id": "3f65fa38a0a14f94bdc23674b6cb450d",
       "version_major": 2,
       "version_minor": 0
      },
      "text/plain": [
       "Epoch 17/200 | Training:   0%|          | 0/4 [00:00<?, ?it/s]"
      ]
     },
     "metadata": {},
     "output_type": "display_data"
    },
    {
     "data": {
      "application/vnd.jupyter.widget-view+json": {
       "model_id": "7160b92283b6489096e6b372c06d7ca2",
       "version_major": 2,
       "version_minor": 0
      },
      "text/plain": [
       "Epoch 17/200 | Validation:   0%|          | 0/2 [00:00<?, ?it/s]"
      ]
     },
     "metadata": {},
     "output_type": "display_data"
    },
    {
     "name": "stdout",
     "output_type": "stream",
     "text": [
      "Epoch 17/200 | Train Loss: 0.02796 | Val Loss: 0.02266 | Val Accuracy: 0.00314\n"
     ]
    },
    {
     "data": {
      "application/vnd.jupyter.widget-view+json": {
       "model_id": "6521f79d18094e44983887662366600b",
       "version_major": 2,
       "version_minor": 0
      },
      "text/plain": [
       "Epoch 18/200 | Training:   0%|          | 0/4 [00:00<?, ?it/s]"
      ]
     },
     "metadata": {},
     "output_type": "display_data"
    },
    {
     "data": {
      "application/vnd.jupyter.widget-view+json": {
       "model_id": "5d8d30fe7f75411d835e72b695cc6f02",
       "version_major": 2,
       "version_minor": 0
      },
      "text/plain": [
       "Epoch 18/200 | Validation:   0%|          | 0/2 [00:00<?, ?it/s]"
      ]
     },
     "metadata": {},
     "output_type": "display_data"
    },
    {
     "name": "stdout",
     "output_type": "stream",
     "text": [
      "Epoch 18/200 | Train Loss: 0.02881 | Val Loss: 0.02252 | Val Accuracy: 0.00314\n"
     ]
    },
    {
     "data": {
      "application/vnd.jupyter.widget-view+json": {
       "model_id": "df2f2864328b491fa17ba5c0fa07efd4",
       "version_major": 2,
       "version_minor": 0
      },
      "text/plain": [
       "Epoch 19/200 | Training:   0%|          | 0/4 [00:00<?, ?it/s]"
      ]
     },
     "metadata": {},
     "output_type": "display_data"
    },
    {
     "data": {
      "application/vnd.jupyter.widget-view+json": {
       "model_id": "0a9a2f06257e41c1a75af989d9ddf9ea",
       "version_major": 2,
       "version_minor": 0
      },
      "text/plain": [
       "Epoch 19/200 | Validation:   0%|          | 0/2 [00:00<?, ?it/s]"
      ]
     },
     "metadata": {},
     "output_type": "display_data"
    },
    {
     "name": "stdout",
     "output_type": "stream",
     "text": [
      "Epoch 19/200 | Train Loss: 0.02783 | Val Loss: 0.02247 | Val Accuracy: 0.00333\n"
     ]
    },
    {
     "data": {
      "application/vnd.jupyter.widget-view+json": {
       "model_id": "1a5e693813a14f88a7219d2afb043f1d",
       "version_major": 2,
       "version_minor": 0
      },
      "text/plain": [
       "Epoch 20/200 | Training:   0%|          | 0/4 [00:00<?, ?it/s]"
      ]
     },
     "metadata": {},
     "output_type": "display_data"
    },
    {
     "data": {
      "application/vnd.jupyter.widget-view+json": {
       "model_id": "1e9528efe1b74e1388a9ea430d7cc26a",
       "version_major": 2,
       "version_minor": 0
      },
      "text/plain": [
       "Epoch 20/200 | Validation:   0%|          | 0/2 [00:00<?, ?it/s]"
      ]
     },
     "metadata": {},
     "output_type": "display_data"
    },
    {
     "name": "stdout",
     "output_type": "stream",
     "text": [
      "Epoch 20/200 | Train Loss: 0.02640 | Val Loss: 0.02232 | Val Accuracy: 0.00334\n"
     ]
    },
    {
     "data": {
      "application/vnd.jupyter.widget-view+json": {
       "model_id": "431236a1b6704818a2909cdfff3241a8",
       "version_major": 2,
       "version_minor": 0
      },
      "text/plain": [
       "Epoch 21/200 | Training:   0%|          | 0/4 [00:00<?, ?it/s]"
      ]
     },
     "metadata": {},
     "output_type": "display_data"
    },
    {
     "data": {
      "application/vnd.jupyter.widget-view+json": {
       "model_id": "4c91ab2945844480ae4946046565d783",
       "version_major": 2,
       "version_minor": 0
      },
      "text/plain": [
       "Epoch 21/200 | Validation:   0%|          | 0/2 [00:00<?, ?it/s]"
      ]
     },
     "metadata": {},
     "output_type": "display_data"
    },
    {
     "name": "stdout",
     "output_type": "stream",
     "text": [
      "Epoch 21/200 | Train Loss: 0.02644 | Val Loss: 0.02206 | Val Accuracy: 0.00330\n"
     ]
    },
    {
     "data": {
      "application/vnd.jupyter.widget-view+json": {
       "model_id": "b515b13d0c884f3f8036cd6538dd0ac7",
       "version_major": 2,
       "version_minor": 0
      },
      "text/plain": [
       "Epoch 22/200 | Training:   0%|          | 0/4 [00:00<?, ?it/s]"
      ]
     },
     "metadata": {},
     "output_type": "display_data"
    },
    {
     "data": {
      "application/vnd.jupyter.widget-view+json": {
       "model_id": "ee1903d353e44e13828a3e6c5d583263",
       "version_major": 2,
       "version_minor": 0
      },
      "text/plain": [
       "Epoch 22/200 | Validation:   0%|          | 0/2 [00:00<?, ?it/s]"
      ]
     },
     "metadata": {},
     "output_type": "display_data"
    },
    {
     "name": "stdout",
     "output_type": "stream",
     "text": [
      "Epoch 22/200 | Train Loss: 0.02624 | Val Loss: 0.02181 | Val Accuracy: 0.00307\n"
     ]
    },
    {
     "data": {
      "application/vnd.jupyter.widget-view+json": {
       "model_id": "844490d189fb42769d7c629aeeb18a49",
       "version_major": 2,
       "version_minor": 0
      },
      "text/plain": [
       "Epoch 23/200 | Training:   0%|          | 0/4 [00:00<?, ?it/s]"
      ]
     },
     "metadata": {},
     "output_type": "display_data"
    },
    {
     "data": {
      "application/vnd.jupyter.widget-view+json": {
       "model_id": "7bfed40d00e9414488053b8be309fb25",
       "version_major": 2,
       "version_minor": 0
      },
      "text/plain": [
       "Epoch 23/200 | Validation:   0%|          | 0/2 [00:00<?, ?it/s]"
      ]
     },
     "metadata": {},
     "output_type": "display_data"
    },
    {
     "name": "stdout",
     "output_type": "stream",
     "text": [
      "Epoch 23/200 | Train Loss: 0.03097 | Val Loss: 0.02168 | Val Accuracy: 0.00316\n"
     ]
    },
    {
     "data": {
      "application/vnd.jupyter.widget-view+json": {
       "model_id": "8d84ba52477948169ab8a2bb09ca10ac",
       "version_major": 2,
       "version_minor": 0
      },
      "text/plain": [
       "Epoch 24/200 | Training:   0%|          | 0/4 [00:00<?, ?it/s]"
      ]
     },
     "metadata": {},
     "output_type": "display_data"
    },
    {
     "data": {
      "application/vnd.jupyter.widget-view+json": {
       "model_id": "77aae2037fce4727a01e0fb42ee2db10",
       "version_major": 2,
       "version_minor": 0
      },
      "text/plain": [
       "Epoch 24/200 | Validation:   0%|          | 0/2 [00:00<?, ?it/s]"
      ]
     },
     "metadata": {},
     "output_type": "display_data"
    },
    {
     "name": "stdout",
     "output_type": "stream",
     "text": [
      "Epoch 24/200 | Train Loss: 0.02559 | Val Loss: 0.02182 | Val Accuracy: 0.00382\n"
     ]
    },
    {
     "data": {
      "application/vnd.jupyter.widget-view+json": {
       "model_id": "b39cc6bd29f44df082e6dd1ecaecbcbf",
       "version_major": 2,
       "version_minor": 0
      },
      "text/plain": [
       "Epoch 25/200 | Training:   0%|          | 0/4 [00:00<?, ?it/s]"
      ]
     },
     "metadata": {},
     "output_type": "display_data"
    },
    {
     "data": {
      "application/vnd.jupyter.widget-view+json": {
       "model_id": "f6e91356255c46fa9989ccfb3d3ab076",
       "version_major": 2,
       "version_minor": 0
      },
      "text/plain": [
       "Epoch 25/200 | Validation:   0%|          | 0/2 [00:00<?, ?it/s]"
      ]
     },
     "metadata": {},
     "output_type": "display_data"
    },
    {
     "name": "stdout",
     "output_type": "stream",
     "text": [
      "Epoch 25/200 | Train Loss: 0.02828 | Val Loss: 0.02164 | Val Accuracy: 0.00386\n"
     ]
    },
    {
     "data": {
      "application/vnd.jupyter.widget-view+json": {
       "model_id": "61265ea560d547358f7b461b153109e2",
       "version_major": 2,
       "version_minor": 0
      },
      "text/plain": [
       "Epoch 26/200 | Training:   0%|          | 0/4 [00:00<?, ?it/s]"
      ]
     },
     "metadata": {},
     "output_type": "display_data"
    },
    {
     "data": {
      "application/vnd.jupyter.widget-view+json": {
       "model_id": "873cc5d69fd943e9be52a573d620af44",
       "version_major": 2,
       "version_minor": 0
      },
      "text/plain": [
       "Epoch 26/200 | Validation:   0%|          | 0/2 [00:00<?, ?it/s]"
      ]
     },
     "metadata": {},
     "output_type": "display_data"
    },
    {
     "name": "stdout",
     "output_type": "stream",
     "text": [
      "Epoch 26/200 | Train Loss: 0.02773 | Val Loss: 0.02135 | Val Accuracy: 0.00387\n"
     ]
    },
    {
     "data": {
      "application/vnd.jupyter.widget-view+json": {
       "model_id": "083c213786fa4493bdd8a98ac9c1bf55",
       "version_major": 2,
       "version_minor": 0
      },
      "text/plain": [
       "Epoch 27/200 | Training:   0%|          | 0/4 [00:00<?, ?it/s]"
      ]
     },
     "metadata": {},
     "output_type": "display_data"
    },
    {
     "data": {
      "application/vnd.jupyter.widget-view+json": {
       "model_id": "a5523e1d8b9a40379db46cf1858cc408",
       "version_major": 2,
       "version_minor": 0
      },
      "text/plain": [
       "Epoch 27/200 | Validation:   0%|          | 0/2 [00:00<?, ?it/s]"
      ]
     },
     "metadata": {},
     "output_type": "display_data"
    },
    {
     "name": "stdout",
     "output_type": "stream",
     "text": [
      "Epoch 27/200 | Train Loss: 0.02389 | Val Loss: 0.02115 | Val Accuracy: 0.00386\n"
     ]
    },
    {
     "data": {
      "application/vnd.jupyter.widget-view+json": {
       "model_id": "eaace0c06e9047788210d7b0d372be41",
       "version_major": 2,
       "version_minor": 0
      },
      "text/plain": [
       "Epoch 28/200 | Training:   0%|          | 0/4 [00:00<?, ?it/s]"
      ]
     },
     "metadata": {},
     "output_type": "display_data"
    },
    {
     "data": {
      "application/vnd.jupyter.widget-view+json": {
       "model_id": "8235f1ed81aa42c0bc3ce3ba96c22c19",
       "version_major": 2,
       "version_minor": 0
      },
      "text/plain": [
       "Epoch 28/200 | Validation:   0%|          | 0/2 [00:00<?, ?it/s]"
      ]
     },
     "metadata": {},
     "output_type": "display_data"
    },
    {
     "name": "stdout",
     "output_type": "stream",
     "text": [
      "Epoch 28/200 | Train Loss: 0.02573 | Val Loss: 0.02092 | Val Accuracy: 0.00384\n"
     ]
    },
    {
     "data": {
      "application/vnd.jupyter.widget-view+json": {
       "model_id": "16855c8276ce4f29b285bca6ce667cf8",
       "version_major": 2,
       "version_minor": 0
      },
      "text/plain": [
       "Epoch 29/200 | Training:   0%|          | 0/4 [00:00<?, ?it/s]"
      ]
     },
     "metadata": {},
     "output_type": "display_data"
    },
    {
     "data": {
      "application/vnd.jupyter.widget-view+json": {
       "model_id": "d731ec22cf5043859f8e576ac78a65ff",
       "version_major": 2,
       "version_minor": 0
      },
      "text/plain": [
       "Epoch 29/200 | Validation:   0%|          | 0/2 [00:00<?, ?it/s]"
      ]
     },
     "metadata": {},
     "output_type": "display_data"
    },
    {
     "name": "stdout",
     "output_type": "stream",
     "text": [
      "Epoch 29/200 | Train Loss: 0.02444 | Val Loss: 0.02082 | Val Accuracy: 0.00432\n"
     ]
    },
    {
     "data": {
      "application/vnd.jupyter.widget-view+json": {
       "model_id": "62c8032b60b140cd9279d76f979c89c5",
       "version_major": 2,
       "version_minor": 0
      },
      "text/plain": [
       "Epoch 30/200 | Training:   0%|          | 0/4 [00:00<?, ?it/s]"
      ]
     },
     "metadata": {},
     "output_type": "display_data"
    },
    {
     "data": {
      "application/vnd.jupyter.widget-view+json": {
       "model_id": "a8312db4037142a99a287cc10670f8a2",
       "version_major": 2,
       "version_minor": 0
      },
      "text/plain": [
       "Epoch 30/200 | Validation:   0%|          | 0/2 [00:00<?, ?it/s]"
      ]
     },
     "metadata": {},
     "output_type": "display_data"
    },
    {
     "name": "stdout",
     "output_type": "stream",
     "text": [
      "Epoch 30/200 | Train Loss: 0.02438 | Val Loss: 0.02070 | Val Accuracy: 0.00436\n"
     ]
    },
    {
     "data": {
      "application/vnd.jupyter.widget-view+json": {
       "model_id": "e1149d061b1a41ce93d022388f26699f",
       "version_major": 2,
       "version_minor": 0
      },
      "text/plain": [
       "Epoch 31/200 | Training:   0%|          | 0/4 [00:00<?, ?it/s]"
      ]
     },
     "metadata": {},
     "output_type": "display_data"
    },
    {
     "data": {
      "application/vnd.jupyter.widget-view+json": {
       "model_id": "67ac43c823e947ecb46b261fc973adb7",
       "version_major": 2,
       "version_minor": 0
      },
      "text/plain": [
       "Epoch 31/200 | Validation:   0%|          | 0/2 [00:00<?, ?it/s]"
      ]
     },
     "metadata": {},
     "output_type": "display_data"
    },
    {
     "name": "stdout",
     "output_type": "stream",
     "text": [
      "Epoch 31/200 | Train Loss: 0.02375 | Val Loss: 0.02059 | Val Accuracy: 0.00429\n"
     ]
    },
    {
     "data": {
      "application/vnd.jupyter.widget-view+json": {
       "model_id": "bfb3a90f7e2b401a92066227c35f2270",
       "version_major": 2,
       "version_minor": 0
      },
      "text/plain": [
       "Epoch 32/200 | Training:   0%|          | 0/4 [00:00<?, ?it/s]"
      ]
     },
     "metadata": {},
     "output_type": "display_data"
    },
    {
     "data": {
      "application/vnd.jupyter.widget-view+json": {
       "model_id": "eb5ec7ddf8c2443ab95c46708b85cea7",
       "version_major": 2,
       "version_minor": 0
      },
      "text/plain": [
       "Epoch 32/200 | Validation:   0%|          | 0/2 [00:00<?, ?it/s]"
      ]
     },
     "metadata": {},
     "output_type": "display_data"
    },
    {
     "name": "stdout",
     "output_type": "stream",
     "text": [
      "Epoch 32/200 | Train Loss: 0.02580 | Val Loss: 0.02057 | Val Accuracy: 0.00433\n"
     ]
    },
    {
     "data": {
      "application/vnd.jupyter.widget-view+json": {
       "model_id": "f663c7a2af534b0a8a675b27e9fcc351",
       "version_major": 2,
       "version_minor": 0
      },
      "text/plain": [
       "Epoch 33/200 | Training:   0%|          | 0/4 [00:00<?, ?it/s]"
      ]
     },
     "metadata": {},
     "output_type": "display_data"
    },
    {
     "data": {
      "application/vnd.jupyter.widget-view+json": {
       "model_id": "df5494ddc9544ceda565994f0a131717",
       "version_major": 2,
       "version_minor": 0
      },
      "text/plain": [
       "Epoch 33/200 | Validation:   0%|          | 0/2 [00:00<?, ?it/s]"
      ]
     },
     "metadata": {},
     "output_type": "display_data"
    },
    {
     "name": "stdout",
     "output_type": "stream",
     "text": [
      "Epoch 33/200 | Train Loss: 0.02763 | Val Loss: 0.02054 | Val Accuracy: 0.00433\n"
     ]
    },
    {
     "data": {
      "application/vnd.jupyter.widget-view+json": {
       "model_id": "aaf449b574404e2e97f9d9d1e9ff1bd3",
       "version_major": 2,
       "version_minor": 0
      },
      "text/plain": [
       "Epoch 34/200 | Training:   0%|          | 0/4 [00:00<?, ?it/s]"
      ]
     },
     "metadata": {},
     "output_type": "display_data"
    },
    {
     "data": {
      "application/vnd.jupyter.widget-view+json": {
       "model_id": "75bc4f0d735446cdbdd48003ade8c7b2",
       "version_major": 2,
       "version_minor": 0
      },
      "text/plain": [
       "Epoch 34/200 | Validation:   0%|          | 0/2 [00:00<?, ?it/s]"
      ]
     },
     "metadata": {},
     "output_type": "display_data"
    },
    {
     "name": "stdout",
     "output_type": "stream",
     "text": [
      "Epoch 34/200 | Train Loss: 0.02411 | Val Loss: 0.02056 | Val Accuracy: 0.00431\n"
     ]
    },
    {
     "data": {
      "application/vnd.jupyter.widget-view+json": {
       "model_id": "a8cc185d9d1a4bd88e00e51d5970792a",
       "version_major": 2,
       "version_minor": 0
      },
      "text/plain": [
       "Epoch 35/200 | Training:   0%|          | 0/4 [00:00<?, ?it/s]"
      ]
     },
     "metadata": {},
     "output_type": "display_data"
    },
    {
     "data": {
      "application/vnd.jupyter.widget-view+json": {
       "model_id": "818e8050e6f14308b3a787e9e9d09ed9",
       "version_major": 2,
       "version_minor": 0
      },
      "text/plain": [
       "Epoch 35/200 | Validation:   0%|          | 0/2 [00:00<?, ?it/s]"
      ]
     },
     "metadata": {},
     "output_type": "display_data"
    },
    {
     "name": "stdout",
     "output_type": "stream",
     "text": [
      "Epoch 35/200 | Train Loss: 0.02982 | Val Loss: 0.02035 | Val Accuracy: 0.00453\n"
     ]
    },
    {
     "data": {
      "application/vnd.jupyter.widget-view+json": {
       "model_id": "4447c694d1524f1a8384d1f4556f1500",
       "version_major": 2,
       "version_minor": 0
      },
      "text/plain": [
       "Epoch 36/200 | Training:   0%|          | 0/4 [00:00<?, ?it/s]"
      ]
     },
     "metadata": {},
     "output_type": "display_data"
    },
    {
     "data": {
      "application/vnd.jupyter.widget-view+json": {
       "model_id": "50e4e84f85a844afb1346a84b4856fbb",
       "version_major": 2,
       "version_minor": 0
      },
      "text/plain": [
       "Epoch 36/200 | Validation:   0%|          | 0/2 [00:00<?, ?it/s]"
      ]
     },
     "metadata": {},
     "output_type": "display_data"
    },
    {
     "name": "stdout",
     "output_type": "stream",
     "text": [
      "Epoch 36/200 | Train Loss: 0.02921 | Val Loss: 0.02045 | Val Accuracy: 0.00436\n"
     ]
    },
    {
     "data": {
      "application/vnd.jupyter.widget-view+json": {
       "model_id": "8949dcbcddac44ad9e17688fc1b42855",
       "version_major": 2,
       "version_minor": 0
      },
      "text/plain": [
       "Epoch 37/200 | Training:   0%|          | 0/4 [00:00<?, ?it/s]"
      ]
     },
     "metadata": {},
     "output_type": "display_data"
    },
    {
     "data": {
      "application/vnd.jupyter.widget-view+json": {
       "model_id": "cc1b7d0657ff454b8ef6b5870f5b08db",
       "version_major": 2,
       "version_minor": 0
      },
      "text/plain": [
       "Epoch 37/200 | Validation:   0%|          | 0/2 [00:00<?, ?it/s]"
      ]
     },
     "metadata": {},
     "output_type": "display_data"
    },
    {
     "name": "stdout",
     "output_type": "stream",
     "text": [
      "Epoch 37/200 | Train Loss: 0.02281 | Val Loss: 0.02015 | Val Accuracy: 0.00431\n"
     ]
    },
    {
     "data": {
      "application/vnd.jupyter.widget-view+json": {
       "model_id": "e6c0dd2bb7e247c893a815298dfd2cda",
       "version_major": 2,
       "version_minor": 0
      },
      "text/plain": [
       "Epoch 38/200 | Training:   0%|          | 0/4 [00:00<?, ?it/s]"
      ]
     },
     "metadata": {},
     "output_type": "display_data"
    },
    {
     "data": {
      "application/vnd.jupyter.widget-view+json": {
       "model_id": "9def628577a6472e927ad526d6df4b71",
       "version_major": 2,
       "version_minor": 0
      },
      "text/plain": [
       "Epoch 38/200 | Validation:   0%|          | 0/2 [00:00<?, ?it/s]"
      ]
     },
     "metadata": {},
     "output_type": "display_data"
    },
    {
     "name": "stdout",
     "output_type": "stream",
     "text": [
      "Epoch 38/200 | Train Loss: 0.02301 | Val Loss: 0.01967 | Val Accuracy: 0.00446\n"
     ]
    },
    {
     "data": {
      "application/vnd.jupyter.widget-view+json": {
       "model_id": "bbd004ee3b61401bb51c11299cc00491",
       "version_major": 2,
       "version_minor": 0
      },
      "text/plain": [
       "Epoch 39/200 | Training:   0%|          | 0/4 [00:00<?, ?it/s]"
      ]
     },
     "metadata": {},
     "output_type": "display_data"
    },
    {
     "data": {
      "application/vnd.jupyter.widget-view+json": {
       "model_id": "8828cdc9968d47798ec9afbf6784769d",
       "version_major": 2,
       "version_minor": 0
      },
      "text/plain": [
       "Epoch 39/200 | Validation:   0%|          | 0/2 [00:00<?, ?it/s]"
      ]
     },
     "metadata": {},
     "output_type": "display_data"
    },
    {
     "name": "stdout",
     "output_type": "stream",
     "text": [
      "Epoch 39/200 | Train Loss: 0.02682 | Val Loss: 0.01956 | Val Accuracy: 0.00455\n"
     ]
    },
    {
     "data": {
      "application/vnd.jupyter.widget-view+json": {
       "model_id": "59beed857bd04ac8a75f1c432e52bec4",
       "version_major": 2,
       "version_minor": 0
      },
      "text/plain": [
       "Epoch 40/200 | Training:   0%|          | 0/4 [00:00<?, ?it/s]"
      ]
     },
     "metadata": {},
     "output_type": "display_data"
    },
    {
     "data": {
      "application/vnd.jupyter.widget-view+json": {
       "model_id": "30151e4083444bdb9619b3865dfc7bea",
       "version_major": 2,
       "version_minor": 0
      },
      "text/plain": [
       "Epoch 40/200 | Validation:   0%|          | 0/2 [00:00<?, ?it/s]"
      ]
     },
     "metadata": {},
     "output_type": "display_data"
    },
    {
     "name": "stdout",
     "output_type": "stream",
     "text": [
      "Epoch 40/200 | Train Loss: 0.02138 | Val Loss: 0.02011 | Val Accuracy: 0.00430\n"
     ]
    },
    {
     "data": {
      "application/vnd.jupyter.widget-view+json": {
       "model_id": "919287d042d14e0d84f06ef7bca459a9",
       "version_major": 2,
       "version_minor": 0
      },
      "text/plain": [
       "Epoch 41/200 | Training:   0%|          | 0/4 [00:00<?, ?it/s]"
      ]
     },
     "metadata": {},
     "output_type": "display_data"
    },
    {
     "data": {
      "application/vnd.jupyter.widget-view+json": {
       "model_id": "e00dcd2cd61f4eb9ad1b76bfca30e0d9",
       "version_major": 2,
       "version_minor": 0
      },
      "text/plain": [
       "Epoch 41/200 | Validation:   0%|          | 0/2 [00:00<?, ?it/s]"
      ]
     },
     "metadata": {},
     "output_type": "display_data"
    },
    {
     "name": "stdout",
     "output_type": "stream",
     "text": [
      "Epoch 41/200 | Train Loss: 0.02212 | Val Loss: 0.01961 | Val Accuracy: 0.00444\n"
     ]
    },
    {
     "data": {
      "application/vnd.jupyter.widget-view+json": {
       "model_id": "b8591b90068746e6933fe9ce55ffe81d",
       "version_major": 2,
       "version_minor": 0
      },
      "text/plain": [
       "Epoch 42/200 | Training:   0%|          | 0/4 [00:00<?, ?it/s]"
      ]
     },
     "metadata": {},
     "output_type": "display_data"
    },
    {
     "data": {
      "application/vnd.jupyter.widget-view+json": {
       "model_id": "32f824aec2f94f02ba53f13d14db72a1",
       "version_major": 2,
       "version_minor": 0
      },
      "text/plain": [
       "Epoch 42/200 | Validation:   0%|          | 0/2 [00:00<?, ?it/s]"
      ]
     },
     "metadata": {},
     "output_type": "display_data"
    },
    {
     "name": "stdout",
     "output_type": "stream",
     "text": [
      "Epoch 42/200 | Train Loss: 0.02797 | Val Loss: 0.01916 | Val Accuracy: 0.00436\n"
     ]
    },
    {
     "data": {
      "application/vnd.jupyter.widget-view+json": {
       "model_id": "231ca805e1aa4584816459dcd8d52ca0",
       "version_major": 2,
       "version_minor": 0
      },
      "text/plain": [
       "Epoch 43/200 | Training:   0%|          | 0/4 [00:00<?, ?it/s]"
      ]
     },
     "metadata": {},
     "output_type": "display_data"
    },
    {
     "data": {
      "application/vnd.jupyter.widget-view+json": {
       "model_id": "054554c1a83f4975b17b8cb6b6150fed",
       "version_major": 2,
       "version_minor": 0
      },
      "text/plain": [
       "Epoch 43/200 | Validation:   0%|          | 0/2 [00:00<?, ?it/s]"
      ]
     },
     "metadata": {},
     "output_type": "display_data"
    },
    {
     "name": "stdout",
     "output_type": "stream",
     "text": [
      "Epoch 43/200 | Train Loss: 0.02144 | Val Loss: 0.01918 | Val Accuracy: 0.00433\n"
     ]
    },
    {
     "data": {
      "application/vnd.jupyter.widget-view+json": {
       "model_id": "0e3011de054044dc963d7cada51cc69b",
       "version_major": 2,
       "version_minor": 0
      },
      "text/plain": [
       "Epoch 44/200 | Training:   0%|          | 0/4 [00:00<?, ?it/s]"
      ]
     },
     "metadata": {},
     "output_type": "display_data"
    },
    {
     "data": {
      "application/vnd.jupyter.widget-view+json": {
       "model_id": "beece8fbc6eb4067b7611de6ddfd68cd",
       "version_major": 2,
       "version_minor": 0
      },
      "text/plain": [
       "Epoch 44/200 | Validation:   0%|          | 0/2 [00:00<?, ?it/s]"
      ]
     },
     "metadata": {},
     "output_type": "display_data"
    },
    {
     "name": "stdout",
     "output_type": "stream",
     "text": [
      "Epoch 44/200 | Train Loss: 0.02174 | Val Loss: 0.01903 | Val Accuracy: 0.00427\n"
     ]
    },
    {
     "data": {
      "application/vnd.jupyter.widget-view+json": {
       "model_id": "663c237b3f334c84af8319b21fcc624c",
       "version_major": 2,
       "version_minor": 0
      },
      "text/plain": [
       "Epoch 45/200 | Training:   0%|          | 0/4 [00:00<?, ?it/s]"
      ]
     },
     "metadata": {},
     "output_type": "display_data"
    },
    {
     "data": {
      "application/vnd.jupyter.widget-view+json": {
       "model_id": "91fe6fd217f54da8ba90785f18150789",
       "version_major": 2,
       "version_minor": 0
      },
      "text/plain": [
       "Epoch 45/200 | Validation:   0%|          | 0/2 [00:00<?, ?it/s]"
      ]
     },
     "metadata": {},
     "output_type": "display_data"
    },
    {
     "name": "stdout",
     "output_type": "stream",
     "text": [
      "Epoch 45/200 | Train Loss: 0.02367 | Val Loss: 0.01873 | Val Accuracy: 0.00438\n"
     ]
    },
    {
     "data": {
      "application/vnd.jupyter.widget-view+json": {
       "model_id": "a1695cfb672742baa9936460804c21e5",
       "version_major": 2,
       "version_minor": 0
      },
      "text/plain": [
       "Epoch 46/200 | Training:   0%|          | 0/4 [00:00<?, ?it/s]"
      ]
     },
     "metadata": {},
     "output_type": "display_data"
    },
    {
     "data": {
      "application/vnd.jupyter.widget-view+json": {
       "model_id": "438779ae846e42649e238ebd764ed25a",
       "version_major": 2,
       "version_minor": 0
      },
      "text/plain": [
       "Epoch 46/200 | Validation:   0%|          | 0/2 [00:00<?, ?it/s]"
      ]
     },
     "metadata": {},
     "output_type": "display_data"
    },
    {
     "name": "stdout",
     "output_type": "stream",
     "text": [
      "Epoch 46/200 | Train Loss: 0.02191 | Val Loss: 0.01857 | Val Accuracy: 0.00436\n"
     ]
    },
    {
     "data": {
      "application/vnd.jupyter.widget-view+json": {
       "model_id": "7d8623e137654cceab1fc063589517a7",
       "version_major": 2,
       "version_minor": 0
      },
      "text/plain": [
       "Epoch 47/200 | Training:   0%|          | 0/4 [00:00<?, ?it/s]"
      ]
     },
     "metadata": {},
     "output_type": "display_data"
    },
    {
     "data": {
      "application/vnd.jupyter.widget-view+json": {
       "model_id": "e362ee01c4ef4c7baffafb41e10fc72f",
       "version_major": 2,
       "version_minor": 0
      },
      "text/plain": [
       "Epoch 47/200 | Validation:   0%|          | 0/2 [00:00<?, ?it/s]"
      ]
     },
     "metadata": {},
     "output_type": "display_data"
    },
    {
     "name": "stdout",
     "output_type": "stream",
     "text": [
      "Epoch 47/200 | Train Loss: 0.02316 | Val Loss: 0.01874 | Val Accuracy: 0.00431\n"
     ]
    },
    {
     "data": {
      "application/vnd.jupyter.widget-view+json": {
       "model_id": "79b3ff66fd9546f8bd21040ab2e79650",
       "version_major": 2,
       "version_minor": 0
      },
      "text/plain": [
       "Epoch 48/200 | Training:   0%|          | 0/4 [00:00<?, ?it/s]"
      ]
     },
     "metadata": {},
     "output_type": "display_data"
    },
    {
     "data": {
      "application/vnd.jupyter.widget-view+json": {
       "model_id": "e0589b9f8c0b4d61b178759392cb53d4",
       "version_major": 2,
       "version_minor": 0
      },
      "text/plain": [
       "Epoch 48/200 | Validation:   0%|          | 0/2 [00:00<?, ?it/s]"
      ]
     },
     "metadata": {},
     "output_type": "display_data"
    },
    {
     "name": "stdout",
     "output_type": "stream",
     "text": [
      "Epoch 48/200 | Train Loss: 0.02196 | Val Loss: 0.01899 | Val Accuracy: 0.00445\n"
     ]
    },
    {
     "data": {
      "application/vnd.jupyter.widget-view+json": {
       "model_id": "b1b736408b27410d9723eea612fc470b",
       "version_major": 2,
       "version_minor": 0
      },
      "text/plain": [
       "Epoch 49/200 | Training:   0%|          | 0/4 [00:00<?, ?it/s]"
      ]
     },
     "metadata": {},
     "output_type": "display_data"
    },
    {
     "data": {
      "application/vnd.jupyter.widget-view+json": {
       "model_id": "defe7c96a1c94faea10e7f56e80eb055",
       "version_major": 2,
       "version_minor": 0
      },
      "text/plain": [
       "Epoch 49/200 | Validation:   0%|          | 0/2 [00:00<?, ?it/s]"
      ]
     },
     "metadata": {},
     "output_type": "display_data"
    },
    {
     "name": "stdout",
     "output_type": "stream",
     "text": [
      "Epoch 49/200 | Train Loss: 0.02100 | Val Loss: 0.01829 | Val Accuracy: 0.00435\n"
     ]
    },
    {
     "data": {
      "application/vnd.jupyter.widget-view+json": {
       "model_id": "ad713dc66b094303a6f96f160b026ad9",
       "version_major": 2,
       "version_minor": 0
      },
      "text/plain": [
       "Epoch 50/200 | Training:   0%|          | 0/4 [00:00<?, ?it/s]"
      ]
     },
     "metadata": {},
     "output_type": "display_data"
    },
    {
     "data": {
      "application/vnd.jupyter.widget-view+json": {
       "model_id": "a4a0f138d2244bc08eac4900677bc361",
       "version_major": 2,
       "version_minor": 0
      },
      "text/plain": [
       "Epoch 50/200 | Validation:   0%|          | 0/2 [00:00<?, ?it/s]"
      ]
     },
     "metadata": {},
     "output_type": "display_data"
    },
    {
     "name": "stdout",
     "output_type": "stream",
     "text": [
      "Epoch 50/200 | Train Loss: 0.02187 | Val Loss: 0.01795 | Val Accuracy: 0.00430\n"
     ]
    },
    {
     "data": {
      "application/vnd.jupyter.widget-view+json": {
       "model_id": "147098e588b34632a70d8b9c452c15dc",
       "version_major": 2,
       "version_minor": 0
      },
      "text/plain": [
       "Epoch 51/200 | Training:   0%|          | 0/4 [00:00<?, ?it/s]"
      ]
     },
     "metadata": {},
     "output_type": "display_data"
    },
    {
     "data": {
      "application/vnd.jupyter.widget-view+json": {
       "model_id": "4c039e5ab9f94adbbb2273ff3b9ca4a6",
       "version_major": 2,
       "version_minor": 0
      },
      "text/plain": [
       "Epoch 51/200 | Validation:   0%|          | 0/2 [00:00<?, ?it/s]"
      ]
     },
     "metadata": {},
     "output_type": "display_data"
    },
    {
     "name": "stdout",
     "output_type": "stream",
     "text": [
      "Epoch 51/200 | Train Loss: 0.02537 | Val Loss: 0.01815 | Val Accuracy: 0.00375\n"
     ]
    },
    {
     "data": {
      "application/vnd.jupyter.widget-view+json": {
       "model_id": "a5086970093e42b5af8009eb10182186",
       "version_major": 2,
       "version_minor": 0
      },
      "text/plain": [
       "Epoch 52/200 | Training:   0%|          | 0/4 [00:00<?, ?it/s]"
      ]
     },
     "metadata": {},
     "output_type": "display_data"
    },
    {
     "data": {
      "application/vnd.jupyter.widget-view+json": {
       "model_id": "7a865eb747c645f38ea1759e5a7948af",
       "version_major": 2,
       "version_minor": 0
      },
      "text/plain": [
       "Epoch 52/200 | Validation:   0%|          | 0/2 [00:00<?, ?it/s]"
      ]
     },
     "metadata": {},
     "output_type": "display_data"
    },
    {
     "name": "stdout",
     "output_type": "stream",
     "text": [
      "Epoch 52/200 | Train Loss: 0.02430 | Val Loss: 0.01858 | Val Accuracy: 0.00379\n"
     ]
    },
    {
     "data": {
      "application/vnd.jupyter.widget-view+json": {
       "model_id": "487d853f607441559666950973a8b798",
       "version_major": 2,
       "version_minor": 0
      },
      "text/plain": [
       "Epoch 53/200 | Training:   0%|          | 0/4 [00:00<?, ?it/s]"
      ]
     },
     "metadata": {},
     "output_type": "display_data"
    },
    {
     "data": {
      "application/vnd.jupyter.widget-view+json": {
       "model_id": "c91fa70ffb9c4f4d81a4906945239ff7",
       "version_major": 2,
       "version_minor": 0
      },
      "text/plain": [
       "Epoch 53/200 | Validation:   0%|          | 0/2 [00:00<?, ?it/s]"
      ]
     },
     "metadata": {},
     "output_type": "display_data"
    },
    {
     "name": "stdout",
     "output_type": "stream",
     "text": [
      "Epoch 53/200 | Train Loss: 0.02087 | Val Loss: 0.01814 | Val Accuracy: 0.00432\n"
     ]
    },
    {
     "data": {
      "application/vnd.jupyter.widget-view+json": {
       "model_id": "c3cb12b494c34d3ab11c259ae9c3d0c7",
       "version_major": 2,
       "version_minor": 0
      },
      "text/plain": [
       "Epoch 54/200 | Training:   0%|          | 0/4 [00:00<?, ?it/s]"
      ]
     },
     "metadata": {},
     "output_type": "display_data"
    },
    {
     "data": {
      "application/vnd.jupyter.widget-view+json": {
       "model_id": "7d4a07964e7a466aa24f9e9ec97b43c0",
       "version_major": 2,
       "version_minor": 0
      },
      "text/plain": [
       "Epoch 54/200 | Validation:   0%|          | 0/2 [00:00<?, ?it/s]"
      ]
     },
     "metadata": {},
     "output_type": "display_data"
    },
    {
     "name": "stdout",
     "output_type": "stream",
     "text": [
      "Epoch 54/200 | Train Loss: 0.02321 | Val Loss: 0.01768 | Val Accuracy: 0.00449\n"
     ]
    },
    {
     "data": {
      "application/vnd.jupyter.widget-view+json": {
       "model_id": "0f15e36c18304e34b7dbf5e444d9bf22",
       "version_major": 2,
       "version_minor": 0
      },
      "text/plain": [
       "Epoch 55/200 | Training:   0%|          | 0/4 [00:00<?, ?it/s]"
      ]
     },
     "metadata": {},
     "output_type": "display_data"
    },
    {
     "data": {
      "application/vnd.jupyter.widget-view+json": {
       "model_id": "b58e090cb3ee46acae06b79ad8beea81",
       "version_major": 2,
       "version_minor": 0
      },
      "text/plain": [
       "Epoch 55/200 | Validation:   0%|          | 0/2 [00:00<?, ?it/s]"
      ]
     },
     "metadata": {},
     "output_type": "display_data"
    },
    {
     "name": "stdout",
     "output_type": "stream",
     "text": [
      "Epoch 55/200 | Train Loss: 0.01998 | Val Loss: 0.01781 | Val Accuracy: 0.00411\n"
     ]
    },
    {
     "data": {
      "application/vnd.jupyter.widget-view+json": {
       "model_id": "a5b61a193e8b4a2586d9caf5093eabbd",
       "version_major": 2,
       "version_minor": 0
      },
      "text/plain": [
       "Epoch 56/200 | Training:   0%|          | 0/4 [00:00<?, ?it/s]"
      ]
     },
     "metadata": {},
     "output_type": "display_data"
    },
    {
     "data": {
      "application/vnd.jupyter.widget-view+json": {
       "model_id": "4cba0bf6a06742d4846bdcabca7cf59a",
       "version_major": 2,
       "version_minor": 0
      },
      "text/plain": [
       "Epoch 56/200 | Validation:   0%|          | 0/2 [00:00<?, ?it/s]"
      ]
     },
     "metadata": {},
     "output_type": "display_data"
    },
    {
     "name": "stdout",
     "output_type": "stream",
     "text": [
      "Epoch 56/200 | Train Loss: 0.02211 | Val Loss: 0.01797 | Val Accuracy: 0.00406\n"
     ]
    },
    {
     "data": {
      "application/vnd.jupyter.widget-view+json": {
       "model_id": "7ed8699e94c8434795ab5091a9c715aa",
       "version_major": 2,
       "version_minor": 0
      },
      "text/plain": [
       "Epoch 57/200 | Training:   0%|          | 0/4 [00:00<?, ?it/s]"
      ]
     },
     "metadata": {},
     "output_type": "display_data"
    },
    {
     "data": {
      "application/vnd.jupyter.widget-view+json": {
       "model_id": "89d23e18e5334d7c88cb633a9650b4de",
       "version_major": 2,
       "version_minor": 0
      },
      "text/plain": [
       "Epoch 57/200 | Validation:   0%|          | 0/2 [00:00<?, ?it/s]"
      ]
     },
     "metadata": {},
     "output_type": "display_data"
    },
    {
     "name": "stdout",
     "output_type": "stream",
     "text": [
      "Epoch 57/200 | Train Loss: 0.02524 | Val Loss: 0.01766 | Val Accuracy: 0.00406\n"
     ]
    },
    {
     "data": {
      "application/vnd.jupyter.widget-view+json": {
       "model_id": "256d7b3c203c4b4c839834155c7ea1a1",
       "version_major": 2,
       "version_minor": 0
      },
      "text/plain": [
       "Epoch 58/200 | Training:   0%|          | 0/4 [00:00<?, ?it/s]"
      ]
     },
     "metadata": {},
     "output_type": "display_data"
    },
    {
     "data": {
      "application/vnd.jupyter.widget-view+json": {
       "model_id": "c5dae7b69f04445ba9e6febef0587c7c",
       "version_major": 2,
       "version_minor": 0
      },
      "text/plain": [
       "Epoch 58/200 | Validation:   0%|          | 0/2 [00:00<?, ?it/s]"
      ]
     },
     "metadata": {},
     "output_type": "display_data"
    },
    {
     "name": "stdout",
     "output_type": "stream",
     "text": [
      "Epoch 58/200 | Train Loss: 0.02810 | Val Loss: 0.01807 | Val Accuracy: 0.00407\n"
     ]
    },
    {
     "data": {
      "application/vnd.jupyter.widget-view+json": {
       "model_id": "c17d1507855a4d5ea09d12291af07f7d",
       "version_major": 2,
       "version_minor": 0
      },
      "text/plain": [
       "Epoch 59/200 | Training:   0%|          | 0/4 [00:00<?, ?it/s]"
      ]
     },
     "metadata": {},
     "output_type": "display_data"
    },
    {
     "data": {
      "application/vnd.jupyter.widget-view+json": {
       "model_id": "838afb45dda8461f968939654f835ff7",
       "version_major": 2,
       "version_minor": 0
      },
      "text/plain": [
       "Epoch 59/200 | Validation:   0%|          | 0/2 [00:00<?, ?it/s]"
      ]
     },
     "metadata": {},
     "output_type": "display_data"
    },
    {
     "name": "stdout",
     "output_type": "stream",
     "text": [
      "Epoch 59/200 | Train Loss: 0.02305 | Val Loss: 0.01840 | Val Accuracy: 0.00419\n"
     ]
    },
    {
     "data": {
      "application/vnd.jupyter.widget-view+json": {
       "model_id": "fe4ce1fd403843458ffaae826c77f261",
       "version_major": 2,
       "version_minor": 0
      },
      "text/plain": [
       "Epoch 60/200 | Training:   0%|          | 0/4 [00:00<?, ?it/s]"
      ]
     },
     "metadata": {},
     "output_type": "display_data"
    },
    {
     "data": {
      "application/vnd.jupyter.widget-view+json": {
       "model_id": "d116b0e26fa84ce7b7cd80e8c6c72b3f",
       "version_major": 2,
       "version_minor": 0
      },
      "text/plain": [
       "Epoch 60/200 | Validation:   0%|          | 0/2 [00:00<?, ?it/s]"
      ]
     },
     "metadata": {},
     "output_type": "display_data"
    },
    {
     "name": "stdout",
     "output_type": "stream",
     "text": [
      "Epoch 60/200 | Train Loss: 0.02047 | Val Loss: 0.01729 | Val Accuracy: 0.00467\n"
     ]
    },
    {
     "data": {
      "application/vnd.jupyter.widget-view+json": {
       "model_id": "ca3b08d416314030849897ddc2e6fb06",
       "version_major": 2,
       "version_minor": 0
      },
      "text/plain": [
       "Epoch 61/200 | Training:   0%|          | 0/4 [00:00<?, ?it/s]"
      ]
     },
     "metadata": {},
     "output_type": "display_data"
    },
    {
     "data": {
      "application/vnd.jupyter.widget-view+json": {
       "model_id": "05946edbdc7a410ab49be398267432ba",
       "version_major": 2,
       "version_minor": 0
      },
      "text/plain": [
       "Epoch 61/200 | Validation:   0%|          | 0/2 [00:00<?, ?it/s]"
      ]
     },
     "metadata": {},
     "output_type": "display_data"
    },
    {
     "name": "stdout",
     "output_type": "stream",
     "text": [
      "Epoch 61/200 | Train Loss: 0.01976 | Val Loss: 0.01701 | Val Accuracy: 0.00417\n"
     ]
    },
    {
     "data": {
      "application/vnd.jupyter.widget-view+json": {
       "model_id": "98867481f1c84561b54f371f652070ca",
       "version_major": 2,
       "version_minor": 0
      },
      "text/plain": [
       "Epoch 62/200 | Training:   0%|          | 0/4 [00:00<?, ?it/s]"
      ]
     },
     "metadata": {},
     "output_type": "display_data"
    },
    {
     "data": {
      "application/vnd.jupyter.widget-view+json": {
       "model_id": "a26b2fb2b4744486b12feed09012254a",
       "version_major": 2,
       "version_minor": 0
      },
      "text/plain": [
       "Epoch 62/200 | Validation:   0%|          | 0/2 [00:00<?, ?it/s]"
      ]
     },
     "metadata": {},
     "output_type": "display_data"
    },
    {
     "name": "stdout",
     "output_type": "stream",
     "text": [
      "Epoch 62/200 | Train Loss: 0.02014 | Val Loss: 0.01747 | Val Accuracy: 0.00364\n"
     ]
    },
    {
     "data": {
      "application/vnd.jupyter.widget-view+json": {
       "model_id": "990402acbd764a42a7fcbb74eb8b5baf",
       "version_major": 2,
       "version_minor": 0
      },
      "text/plain": [
       "Epoch 63/200 | Training:   0%|          | 0/4 [00:00<?, ?it/s]"
      ]
     },
     "metadata": {},
     "output_type": "display_data"
    },
    {
     "data": {
      "application/vnd.jupyter.widget-view+json": {
       "model_id": "c16aa206a8b5460286aaef168971aa2f",
       "version_major": 2,
       "version_minor": 0
      },
      "text/plain": [
       "Epoch 63/200 | Validation:   0%|          | 0/2 [00:00<?, ?it/s]"
      ]
     },
     "metadata": {},
     "output_type": "display_data"
    },
    {
     "name": "stdout",
     "output_type": "stream",
     "text": [
      "Epoch 63/200 | Train Loss: 0.01919 | Val Loss: 0.01701 | Val Accuracy: 0.00373\n"
     ]
    },
    {
     "data": {
      "application/vnd.jupyter.widget-view+json": {
       "model_id": "a3645bfbf99043278f1f85524cb3bcdd",
       "version_major": 2,
       "version_minor": 0
      },
      "text/plain": [
       "Epoch 64/200 | Training:   0%|          | 0/4 [00:00<?, ?it/s]"
      ]
     },
     "metadata": {},
     "output_type": "display_data"
    },
    {
     "data": {
      "application/vnd.jupyter.widget-view+json": {
       "model_id": "06307671eb544fc5bdcbc3b139c2eb91",
       "version_major": 2,
       "version_minor": 0
      },
      "text/plain": [
       "Epoch 64/200 | Validation:   0%|          | 0/2 [00:00<?, ?it/s]"
      ]
     },
     "metadata": {},
     "output_type": "display_data"
    },
    {
     "name": "stdout",
     "output_type": "stream",
     "text": [
      "Epoch 64/200 | Train Loss: 0.02111 | Val Loss: 0.01675 | Val Accuracy: 0.00383\n"
     ]
    },
    {
     "data": {
      "application/vnd.jupyter.widget-view+json": {
       "model_id": "13153ccfbea4446d88d4c0c54e32b499",
       "version_major": 2,
       "version_minor": 0
      },
      "text/plain": [
       "Epoch 65/200 | Training:   0%|          | 0/4 [00:00<?, ?it/s]"
      ]
     },
     "metadata": {},
     "output_type": "display_data"
    },
    {
     "data": {
      "application/vnd.jupyter.widget-view+json": {
       "model_id": "0e057e0e75654543acbcd8471d5dea07",
       "version_major": 2,
       "version_minor": 0
      },
      "text/plain": [
       "Epoch 65/200 | Validation:   0%|          | 0/2 [00:00<?, ?it/s]"
      ]
     },
     "metadata": {},
     "output_type": "display_data"
    },
    {
     "name": "stdout",
     "output_type": "stream",
     "text": [
      "Epoch 65/200 | Train Loss: 0.01924 | Val Loss: 0.01692 | Val Accuracy: 0.00315\n"
     ]
    },
    {
     "data": {
      "application/vnd.jupyter.widget-view+json": {
       "model_id": "9e43d8d45e9c4732aa279a295f1c7eac",
       "version_major": 2,
       "version_minor": 0
      },
      "text/plain": [
       "Epoch 66/200 | Training:   0%|          | 0/4 [00:00<?, ?it/s]"
      ]
     },
     "metadata": {},
     "output_type": "display_data"
    },
    {
     "data": {
      "application/vnd.jupyter.widget-view+json": {
       "model_id": "e866dc5ba1094eda91421ff28081b835",
       "version_major": 2,
       "version_minor": 0
      },
      "text/plain": [
       "Epoch 66/200 | Validation:   0%|          | 0/2 [00:00<?, ?it/s]"
      ]
     },
     "metadata": {},
     "output_type": "display_data"
    },
    {
     "name": "stdout",
     "output_type": "stream",
     "text": [
      "Epoch 66/200 | Train Loss: 0.02221 | Val Loss: 0.01702 | Val Accuracy: 0.00376\n"
     ]
    },
    {
     "data": {
      "application/vnd.jupyter.widget-view+json": {
       "model_id": "c2de5b07572f484ab2f10554caf89f77",
       "version_major": 2,
       "version_minor": 0
      },
      "text/plain": [
       "Epoch 67/200 | Training:   0%|          | 0/4 [00:00<?, ?it/s]"
      ]
     },
     "metadata": {},
     "output_type": "display_data"
    },
    {
     "data": {
      "application/vnd.jupyter.widget-view+json": {
       "model_id": "7513c8cab11a424b8c936fe750f35942",
       "version_major": 2,
       "version_minor": 0
      },
      "text/plain": [
       "Epoch 67/200 | Validation:   0%|          | 0/2 [00:00<?, ?it/s]"
      ]
     },
     "metadata": {},
     "output_type": "display_data"
    },
    {
     "name": "stdout",
     "output_type": "stream",
     "text": [
      "Epoch 67/200 | Train Loss: 0.02255 | Val Loss: 0.01700 | Val Accuracy: 0.00372\n"
     ]
    },
    {
     "data": {
      "application/vnd.jupyter.widget-view+json": {
       "model_id": "d0606da633a142e6b4da8103b6113a07",
       "version_major": 2,
       "version_minor": 0
      },
      "text/plain": [
       "Epoch 68/200 | Training:   0%|          | 0/4 [00:00<?, ?it/s]"
      ]
     },
     "metadata": {},
     "output_type": "display_data"
    },
    {
     "data": {
      "application/vnd.jupyter.widget-view+json": {
       "model_id": "bc1be33cfc384336b08d7810ed1e9b02",
       "version_major": 2,
       "version_minor": 0
      },
      "text/plain": [
       "Epoch 68/200 | Validation:   0%|          | 0/2 [00:00<?, ?it/s]"
      ]
     },
     "metadata": {},
     "output_type": "display_data"
    },
    {
     "name": "stdout",
     "output_type": "stream",
     "text": [
      "Epoch 68/200 | Train Loss: 0.01974 | Val Loss: 0.01690 | Val Accuracy: 0.00366\n"
     ]
    },
    {
     "data": {
      "application/vnd.jupyter.widget-view+json": {
       "model_id": "23abf1274f3b486baa2b027935ab1e0e",
       "version_major": 2,
       "version_minor": 0
      },
      "text/plain": [
       "Epoch 69/200 | Training:   0%|          | 0/4 [00:00<?, ?it/s]"
      ]
     },
     "metadata": {},
     "output_type": "display_data"
    },
    {
     "data": {
      "application/vnd.jupyter.widget-view+json": {
       "model_id": "3e30fdcb6562480fa267123daf097a2b",
       "version_major": 2,
       "version_minor": 0
      },
      "text/plain": [
       "Epoch 69/200 | Validation:   0%|          | 0/2 [00:00<?, ?it/s]"
      ]
     },
     "metadata": {},
     "output_type": "display_data"
    },
    {
     "name": "stdout",
     "output_type": "stream",
     "text": [
      "Epoch 69/200 | Train Loss: 0.01871 | Val Loss: 0.01684 | Val Accuracy: 0.00422\n",
      "Early stopping at epoch 69...\n"
     ]
    },
    {
     "data": {
      "text/html": [
       "Waiting for W&B process to finish... <strong style=\"color:green\">(success).</strong>"
      ],
      "text/plain": [
       "<IPython.core.display.HTML object>"
      ]
     },
     "metadata": {},
     "output_type": "display_data"
    },
    {
     "data": {
      "text/html": [
       "<style>\n",
       "    table.wandb td:nth-child(1) { padding: 0 10px; text-align: left ; width: auto;} td:nth-child(2) {text-align: left ; width: 100%}\n",
       "    .wandb-row { display: flex; flex-direction: row; flex-wrap: wrap; justify-content: flex-start; width: 100% }\n",
       "    .wandb-col { display: flex; flex-direction: column; flex-basis: 100%; flex: 1; padding: 10px; }\n",
       "    </style>\n",
       "<div class=\"wandb-row\"><div class=\"wandb-col\"><h3>Run history:</h3><br/><table class=\"wandb\"><tr><td>epoch</td><td>▁▁▁▂▂▂▂▂▂▃▃▃▃▃▃▄▄▄▄▄▅▅▅▅▅▅▆▆▆▆▆▇▇▇▇▇▇███</td></tr><tr><td>samples</td><td>▁▁▁▂▂▂▂▂▂▃▃▃▃▃▃▄▄▄▄▄▅▅▅▅▅▅▆▆▆▆▆▇▇▇▇▇▇███</td></tr><tr><td>train_loss</td><td>█▃▂▁▁▁▁▁▁▁▁▁▁▁▁▁▁▁▁▁▁▁▁▁▁▁▁▁▁▁▁▁▁▁▁▁▁▁▁▁</td></tr><tr><td>val_accuracy</td><td>▃▄▅▅▅▅▆▃▃▃▁▂▂▁▄▄▄▇▆▆▇▆▇▇▇▆▇▇▇▄▆▅▅▅█▃▄▁▄▆</td></tr><tr><td>val_loss</td><td>█▄▃▂▂▁▁▁▁▁▁▁▁▁▁▁▁▁▁▁▁▁▁▁▁▁▁▁▁▁▁▁▁▁▁▁▁▁▁▁</td></tr></table><br/></div><div class=\"wandb-col\"><h3>Run summary:</h3><br/><table class=\"wandb\"><tr><td>epoch</td><td>69</td></tr><tr><td>samples</td><td>8832</td></tr><tr><td>train_loss</td><td>0.01871</td></tr><tr><td>val_accuracy</td><td>0.00422</td></tr><tr><td>val_loss</td><td>0.01684</td></tr></table><br/></div></div>"
      ],
      "text/plain": [
       "<IPython.core.display.HTML object>"
      ]
     },
     "metadata": {},
     "output_type": "display_data"
    },
    {
     "data": {
      "text/html": [
       " View run <strong style=\"color:#cdcd00\">HMM</strong> at: <a href='https://wandb.ai/sketch-bros/GPT2_DNA/runs/kmjvalva' target=\"_blank\">https://wandb.ai/sketch-bros/GPT2_DNA/runs/kmjvalva</a><br/>Synced 6 W&B file(s), 0 media file(s), 6 artifact file(s) and 0 other file(s)"
      ],
      "text/plain": [
       "<IPython.core.display.HTML object>"
      ]
     },
     "metadata": {},
     "output_type": "display_data"
    },
    {
     "data": {
      "text/html": [
       "Find logs at: <code>./wandb/run-20230613_121844-kmjvalva/logs</code>"
      ],
      "text/plain": [
       "<IPython.core.display.HTML object>"
      ]
     },
     "metadata": {},
     "output_type": "display_data"
    }
   ],
   "source": [
    "import os\n",
    "import re\n",
    "import random\n",
    "from enum import Enum\n",
    "from typing import List, Tuple, DefaultDict, Set\n",
    "from collections import defaultdict, Counter\n",
    "\n",
    "import torch\n",
    "import torch.nn.functional as F\n",
    "from torch.utils.data import Dataset, DataLoader\n",
    "from transformers import GPT2Config, GPT2LMHeadModel, AdamW\n",
    "from tqdm.auto import tqdm\n",
    "from Bio import SeqIO\n",
    "import wandb\n",
    "\n",
    "\n",
    "os.environ[\"WANDB_NOTEBOOK_NAME\"] = 'GPT_dBG.ipynb'\n",
    "\n",
    "\n",
    "class DatasetType(Enum):\n",
    "    HMM = \"HMM\"\n",
    "    FASTA = \"fasta\"\n",
    "\n",
    "\n",
    "\n",
    "class DatasetConfig:\n",
    "    def __init__(self, dataset_type, sequence_length: int, num_seqs: int, split_ratio: float):\n",
    "        self.dataset = dataset_type\n",
    "        self.sequence_length = sequence_length\n",
    "        self.num_seqs = num_seqs\n",
    "        self.split_ratio = split_ratio\n",
    "\n",
    "\n",
    "class FastaDatasetConfig(DatasetConfig):\n",
    "    def __init__(self, sequence_length: int, num_seqs: int, file_path: str,\n",
    "                 stride: int, substrings_per_seq: int, sequences_shuffle: bool = True, split_ratio: float = 0.5):\n",
    "        super().__init__(DatasetType.FASTA, sequence_length, num_seqs, split_ratio)\n",
    "        self.file_path = file_path\n",
    "        self.stride = stride\n",
    "        self.substrings_per_seq = substrings_per_seq\n",
    "        self.sequences_shuffle = sequences_shuffle\n",
    "\n",
    "\n",
    "class HMMDatasetConfig(DatasetConfig):\n",
    "    def __init__(self, sequence_length: int, num_seqs: int, sparsity: float, num_hidden_states: int,  split_ratio: float = 0.5):\n",
    "        super().__init__(DatasetType.HMM, sequence_length, num_seqs, split_ratio)\n",
    "        self.sparsity = sparsity\n",
    "        self.num_hidden_states = num_hidden_states\n",
    "\n",
    "\n",
    "class ModelConfig:\n",
    "    def __init__(self, model_name: str, n_embed: int, n_layer: int, n_head: int):\n",
    "        self.model_name = model_name\n",
    "        self.n_embed = n_embed\n",
    "        self.n_layer = n_layer\n",
    "        self.n_head = n_head\n",
    "\n",
    "\n",
    "class TrainingConfig:\n",
    "    def __init__(self, train_bs: int, val_bs: int, lr: float, weight_decay: float,\n",
    "                 num_epochs: int, early_stopping_patience: int, print_every: int):\n",
    "        self.train_bs = train_bs\n",
    "        self.val_bs = val_bs\n",
    "        self.lr = lr\n",
    "        self.weight_decay = weight_decay\n",
    "        self.num_epochs = num_epochs\n",
    "        self.early_stopping_patience = early_stopping_patience\n",
    "        self.print_every = print_every\n",
    "\n",
    "\n",
    "class Config:\n",
    "    def __init__(self, dataset_config: DatasetConfig, model_config: ModelConfig, training_config: TrainingConfig):\n",
    "        self.dataset_config = dataset_config\n",
    "        self.model_config = model_config\n",
    "        self.training_config = training_config\n",
    "\n",
    "\n",
    "class SequenceTokenizer:\n",
    "    def __init__(self):\n",
    "        self.alphabet = {'A', 'C', 'G', 'T'}\n",
    "        self.token_to_idx = {char: i for i, char in enumerate(self.alphabet)}\n",
    "        self.idx_to_token = {i: char for i, char in enumerate(self.alphabet)}\n",
    "        self.vocab_size = len(self.token_to_idx)\n",
    "\n",
    "    def encode(self, sequence: str, return_tensors: str = \"pt\") -> torch.Tensor:\n",
    "        tokens = [self.token_to_idx[char] for char in sequence]\n",
    "        if return_tensors == \"pt\":\n",
    "            tokens = torch.tensor(tokens, dtype=torch.long)\n",
    "        return tokens\n",
    "\n",
    "    def decode(self, tokens: torch.Tensor) -> str:\n",
    "        sequence = [self.idx_to_token[token.item()] for token in tokens]\n",
    "        return ''.join(sequence)\n",
    "\n",
    "\n",
    "class DNADataset(Dataset):\n",
    "    def __init__(self, sequences: List[str], tokenizer: SequenceTokenizer):\n",
    "        self.sequences = sequences\n",
    "        self.tokenizer = tokenizer\n",
    "\n",
    "    def __len__(self):\n",
    "        return len(self.sequences)\n",
    "\n",
    "    def __getitem__(self, i):\n",
    "        sequence = self.sequences[i]\n",
    "        inputs = self.tokenizer.encode(sequence, return_tensors='pt')\n",
    "        targets = inputs[1:].clone()\n",
    "        inputs = inputs[:-1]\n",
    "        return inputs, targets\n",
    "\n",
    "\n",
    "def compute_char_probabilities(sequences: List[str]) -> None:\n",
    "    counts = defaultdict(int)\n",
    "    total_count = 0\n",
    "    for seq in sequences:\n",
    "        cd = Counter(seq)\n",
    "        for c, count in cd.items():\n",
    "            counts[c] += count\n",
    "            total_count += count\n",
    "    pcounts = {char: c / total_count for char, c in counts.items()}\n",
    "    print(pcounts)\n",
    "\n",
    "\n",
    "def read_fna(file_path: str, shuffle: bool = False) -> List[str]:\n",
    "    sequences = []\n",
    "    with open(file_path, \"r\") as f:\n",
    "        for record in SeqIO.parse(f, \"fasta\"):\n",
    "            sequences.append(str(record.seq))\n",
    "    if shuffle:\n",
    "        random.shuffle(sequences)\n",
    "    return sequences\n",
    "\n",
    "\n",
    "def generate_markov_chain(n: int, sparsity: float) -> torch.Tensor:\n",
    "    transition_probs = torch.rand(n, n)\n",
    "    for i in range(n):\n",
    "        num_outgoing_states = torch.poisson(torch.tensor([float(sparsity)])).int().item()\n",
    "        num_outgoing_states = min(n, max(1, num_outgoing_states))\n",
    "        _, indices = torch.topk(transition_probs[i], num_outgoing_states)\n",
    "        mask = torch.zeros_like(transition_probs[i]).scatter_(0, indices, 1).to(torch.bool)\n",
    "        transition_probs[i] *= mask\n",
    "    transition_probs = F.normalize(transition_probs, p=1, dim=1)\n",
    "    return transition_probs\n",
    "\n",
    "\n",
    "def draw_seq(transition_probs: torch.Tensor, sequence_length: int) -> str:\n",
    "    NUCLEOTIDES = ['A', 'C', 'G', 'T']\n",
    "    current_state = 0\n",
    "    chain = [current_state]\n",
    "    while len(chain) < sequence_length:\n",
    "        next_state = torch.multinomial(transition_probs[current_state], num_samples=1)\n",
    "        current_state = next_state.item()\n",
    "        chain.append(current_state)\n",
    "    seq = [NUCLEOTIDES[s % len(NUCLEOTIDES)] for s in chain]\n",
    "    return ''.join(seq)\n",
    "\n",
    "\n",
    "def generate_HMM_dataset(sequence_length: int, N: int, sparsity: float, num_hidden_states: int = None) -> Tuple[List[str], List[str]]:\n",
    "    if num_hidden_states is None:\n",
    "        num_hidden_states = sequence_length\n",
    "    transition_matrix = generate_markov_chain(num_hidden_states, sparsity=sparsity)\n",
    "    all_seqs = [[], []]\n",
    "    for _ in range(2):\n",
    "        seqs = []\n",
    "        while len(seqs) < N:\n",
    "            seq = draw_seq(transition_matrix, sequence_length)\n",
    "            if len(seq) >= sequence_length:\n",
    "                seqs.append(seq)\n",
    "        all_seqs[_] = seqs\n",
    "    return all_seqs\n",
    "\n",
    "\n",
    "def generate_phylo_dataset(sequence_length: int, mutation_rate: float, N: int) -> List[str]:\n",
    "    NUCLEOTIDES = ['A', 'C', 'G', 'T']\n",
    "    parent_sequence = ''.join(random.choice(NUCLEOTIDES) for _ in range(sequence_length))\n",
    "    dataset = [parent_sequence]\n",
    "    for _ in range(N):\n",
    "        mutated_sequence = ''\n",
    "        for nucleotide in parent_sequence:\n",
    "            if random.random() < mutation_rate:\n",
    "                mutated_sequence += random.choice(NUCLEOTIDES)\n",
    "            else:\n",
    "                mutated_sequence += nucleotide\n",
    "        dataset.append(mutated_sequence)\n",
    "        parent_sequence = mutated_sequence\n",
    "    return dataset\n",
    "\n",
    "\n",
    "def construct_debruijn_graph(dataset: List[str], k: int) -> DefaultDict[str,Set[str]]:\n",
    "    graph = defaultdict(set)\n",
    "    for sequence in dataset:\n",
    "        for i in range(len(sequence) - k):\n",
    "            graph[sequence[i:i + k]].add(sequence[i + 1:i + k + 1])\n",
    "    return graph\n",
    "\n",
    "\n",
    "def extract_substrings(sequences: List[str], sequence_length: int, stride: int, substrings_per_seq: int) -> List[str]:\n",
    "    substrings = []\n",
    "    for sequence in sequences:\n",
    "        for i in range(0, len(sequence) - sequence_length + 1, stride):\n",
    "            if i // stride > substrings_per_seq:\n",
    "                break\n",
    "            seq = sequence[i:i + sequence_length]\n",
    "            if bool(re.match(\"^[ACGT]+$\", seq)):\n",
    "                substrings.append(seq)\n",
    "    return substrings\n",
    "\n",
    "\n",
    "def set_random_seed(seed: int) -> None:\n",
    "    torch.manual_seed(seed)\n",
    "    random.seed(seed)\n",
    "\n",
    "\n",
    "def train(model: torch.nn.Module, optimizer: torch.optim.Optimizer, train_loader: DataLoader, device: torch.device, description: str) -> float:\n",
    "    model.train()\n",
    "    running_loss = []\n",
    "    bar = tqdm(train_loader, desc=description)\n",
    "    for inputs, targets in bar:\n",
    "        inputs = inputs.to(device)\n",
    "        targets = targets.to(device)\n",
    "        outputs = model(inputs, labels=targets)\n",
    "        loss = outputs.loss.mean()\n",
    "        optimizer.zero_grad()\n",
    "        loss.backward()\n",
    "        optimizer.step()\n",
    "        running_loss.append(loss.item())\n",
    "        bar.set_postfix({\"Train Loss\": loss.item()})\n",
    "    return sum(running_loss) / len(running_loss)\n",
    "\n",
    "\n",
    "def evaluate(model: torch.nn.Module, val_loader: DataLoader, device: torch.device, description: str) -> Tuple[float, float]:\n",
    "    model.eval()\n",
    "    total_loss = 0.0\n",
    "    total_count = 0\n",
    "    total_acc = 0.0\n",
    "    bar = tqdm(val_loader, desc=description)\n",
    "    with torch.no_grad():\n",
    "        for inputs, targets in bar:\n",
    "            inputs = inputs.to(device)\n",
    "            targets = targets.to(device)\n",
    "            outputs = model(inputs, labels=targets)\n",
    "            val_loss = outputs.loss.mean()\n",
    "            predictions = outputs.logits.argmax(dim=-1)\n",
    "            accuracy = (predictions == targets).cpu().float().mean().item()\n",
    "            total_loss += val_loss.item() * inputs.size(0)\n",
    "            total_count += inputs.size(0)\n",
    "            total_acc += accuracy\n",
    "            bar.set_postfix({\"Val Loss\": val_loss.item(), \"Val Accuracy\": accuracy})\n",
    "    avg_val_loss = total_loss / total_count\n",
    "    avg_accuracy = total_acc / len(val_loader)\n",
    "    return avg_val_loss, avg_accuracy\n",
    "\n",
    "\n",
    "def train_loop(model: torch.nn.Module, optimizer: torch.optim.Optimizer, train_loader: DataLoader, val_loader: DataLoader, device: torch.device, config: Config) -> None:\n",
    "    best_val_loss = float('inf')\n",
    "    num_epochs_no_improve = 0  # Number of epochs with no improvement in validation loss\n",
    "\n",
    "    try:\n",
    "        for epoch in range(config.training_config.num_epochs):\n",
    "            train_loss = train(model, optimizer, train_loader, device, f\"Epoch {epoch + 1}/{config.training_config.num_epochs} | Training\")\n",
    "            val_loss, val_acc = evaluate(model, val_loader, device, f\"Epoch {epoch + 1}/{config.training_config.num_epochs} | Validation\")\n",
    "            samples = (epoch+1) * len(train_loader) * config.training_config.train_bs\n",
    "            print(f\"Epoch {epoch + 1}/{config.training_config.num_epochs} | Train Loss: {train_loss:.5f} | Val Loss: {val_loss:.5f} | Val Accuracy: {val_acc:.5f}\")\n",
    "            wandb.log({\"epoch\": epoch + 1, \"samples\": samples, \"train_loss\": train_loss, \"val_loss\": val_loss, \"val_accuracy\": val_acc})\n",
    "            \n",
    "            if (epoch + 1) % 10 == 0:\n",
    "                # Save the model weights as an artifact every 10 epochs\n",
    "                artifact = wandb.Artifact(f\"model_weights\", type='model')\n",
    "                torch.save(model.state_dict(), 'gpt2_dna.pth')\n",
    "                artifact.add_file('gpt2_dna.pth')\n",
    "                wandb.log_artifact(artifact)\n",
    "\n",
    "            if val_loss < best_val_loss:\n",
    "                best_val_loss = val_loss\n",
    "                num_epochs_no_improve = 0\n",
    "            else:\n",
    "                num_epochs_no_improve += 1\n",
    "                if num_epochs_no_improve >= config.training_config.early_stopping_patience:\n",
    "                    print(f\"Early stopping at epoch {epoch + 1}...\")\n",
    "                    break\n",
    "\n",
    "    except KeyboardInterrupt:\n",
    "        print(\"Interrupted by user\")\n",
    "    finally:\n",
    "        torch.save(model.state_dict(), 'gpt2_dna.pth')\n",
    "        wandb.finish()\n",
    "\n",
    "\n",
    "def load_datasets(dataset_config: DatasetConfig) -> Tuple[List[str], List[str]]:\n",
    "    if dataset_config.dataset == DatasetType.HMM:\n",
    "        train_seqs, val_seqs = generate_HMM_dataset(dataset_config.sequence_length,\n",
    "                                                    N=dataset_config.num_seqs,\n",
    "                                                    sparsity=dataset_config.sparsity,\n",
    "                                                    num_hidden_states=dataset_config.num_hidden_states)\n",
    "    elif dataset_config.dataset == DatasetType.VIRAL:\n",
    "        set_random_seed(42)\n",
    "        sequences = read_fna(file_path=dataset_config.file_path, shuffle=dataset_config.sequences_shuffle)\n",
    "        sequences = sequences[:dataset_config.num_seqs]\n",
    "        sub_seqs = extract_substrings(sequences,\n",
    "                                      sequence_length=dataset_config.sequence_length,\n",
    "                                      stride=dataset_config.stride,\n",
    "                                      substrings_per_seq=dataset_config.substrings_per_seq)\n",
    "        compute_char_probabilities(sub_seqs)\n",
    "        train_size = int(len(sub_seqs) * (1 - dataset_config.split_ratio))\n",
    "        train_seqs = sub_seqs[:train_size]\n",
    "        val_seqs = sub_seqs[train_size:]\n",
    "        train_seqs = train_seqs[:dataset_config.num_seqs]\n",
    "        val_seqs = val_seqs[:dataset_config.num_seqs]\n",
    "    return train_seqs, val_seqs\n",
    "\n",
    "\n",
    "def main(config: Config) -> None:\n",
    "    dataset_config = config.dataset_config\n",
    "    model_config = config.model_config\n",
    "    training_config = config.training_config\n",
    "\n",
    "    train_seqs, val_seqs = load_datasets(dataset_config)\n",
    "\n",
    "    device = torch.device(\"cuda\" if torch.cuda.is_available() else \"cpu\")\n",
    "\n",
    "    tokenizer = SequenceTokenizer()\n",
    "    train_dataset = DNADataset(train_seqs, tokenizer)\n",
    "    val_dataset = DNADataset(val_seqs, tokenizer)\n",
    "\n",
    "    train_loader = DataLoader(train_dataset, batch_size=training_config.train_bs, shuffle=True)\n",
    "    val_loader = DataLoader(val_dataset, batch_size=training_config.val_bs, shuffle=False)\n",
    "\n",
    "    wandb.init(project='GPT2_DNA', name=f'{dataset_config.dataset.name}', config=config)\n",
    "\n",
    "    gpt2_config = GPT2Config(vocab_size=tokenizer.vocab_size,\n",
    "                             n_positions=dataset_config.sequence_length,\n",
    "                             n_ctx=dataset_config.sequence_length,\n",
    "                             n_embd=model_config.n_embed,\n",
    "                             n_layer=model_config.n_layer,\n",
    "                             n_head=model_config.n_head)\n",
    "\n",
    "    model = GPT2LMHeadModel(gpt2_config).to(device)\n",
    "\n",
    "    if torch.cuda.device_count() > 1:\n",
    "        print(f\"Using {torch.cuda.device_count()} GPUs for training.\")\n",
    "        model = torch.nn.DataParallel(model)\n",
    "\n",
    "    optimizer = AdamW(model.parameters(), lr=training_config.lr, weight_decay=training_config.weight_decay)\n",
    "\n",
    "    train_loop(model, optimizer, train_loader, val_loader, device, config)\n",
    "\n",
    "\n",
    "if __name__ == \"__main__\":\n",
    "    dataset_config = HMMDatasetConfig(sequence_length=1000,\n",
    "                                   split_ratio=0.5,\n",
    "                                   sparsity=1.1,\n",
    "                                   num_hidden_states=500,\n",
    "                                   num_seqs=100,)\n",
    "    # dataset_config = DatasetConfig(dataset=DatasetType.HMM,\n",
    "    #                                file_path=\"./data/viral.1.1.genomic.fna\",\n",
    "    #                                sequence_length=1000,\n",
    "    #                                stride=1000,\n",
    "    #                                split_ratio=0.5,\n",
    "    #                                substrings_per_seq=20,\n",
    "    #                                sparsity=1.1,\n",
    "    #                                num_hidden_states=1000,\n",
    "    #                                num_seqs=100,\n",
    "    #                                sequences_shuffle=True)\n",
    "\n",
    "    model_config = ModelConfig(model_name='gpt2',\n",
    "                               n_embed=512,\n",
    "                               n_layer=4,\n",
    "                               n_head=16)\n",
    "\n",
    "    training_config = TrainingConfig(train_bs=32,\n",
    "                                     val_bs=64,\n",
    "                                     lr=1e-4,\n",
    "                                     weight_decay=0.00,\n",
    "                                     num_epochs=200,\n",
    "                                     early_stopping_patience=5,\n",
    "                                     print_every=20)\n",
    "\n",
    "    config = Config(dataset_config=dataset_config,\n",
    "                    model_config=model_config,\n",
    "                    training_config=training_config)\n",
    "\n",
    "    main(config)\n"
   ]
  },
  {
   "cell_type": "code",
   "execution_count": null,
   "metadata": {},
   "outputs": [],
   "source": []
  }
 ],
 "metadata": {
  "kernelspec": {
   "display_name": "base",
   "language": "python",
   "name": "python3"
  },
  "language_info": {
   "codemirror_mode": {
    "name": "ipython",
    "version": 3
   },
   "file_extension": ".py",
   "mimetype": "text/x-python",
   "name": "python",
   "nbconvert_exporter": "python",
   "pygments_lexer": "ipython3",
   "version": "3.8.5"
  },
  "orig_nbformat": 4
 },
 "nbformat": 4,
 "nbformat_minor": 2
}
